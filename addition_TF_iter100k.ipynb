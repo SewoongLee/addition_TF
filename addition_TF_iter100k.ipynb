{
  "cells": [
    {
      "cell_type": "markdown",
      "metadata": {
        "id": "view-in-github",
        "colab_type": "text"
      },
      "source": [
        "<a href=\"https://colab.research.google.com/github/SewoongLee/addition_TF/blob/main/addition_TF_iter100k.ipynb\" target=\"_parent\"><img src=\"https://colab.research.google.com/assets/colab-badge.svg\" alt=\"Open In Colab\"/></a>"
      ]
    },
    {
      "cell_type": "code",
      "source": [
        "import torch\n",
        "import torch.nn as nn\n",
        "import torch.optim as optim\n",
        "from torch.utils.data import DataLoader, TensorDataset\n",
        "import numpy as np\n",
        "import math\n",
        "import torch.nn.functional as F\n",
        "\n",
        "class TF(nn.Module):\n",
        "    def __init__(self, n_vocab=10, d_model=10):\n",
        "        super(TF, self).__init__()\n",
        "        self.WE = nn.Embedding(n_vocab, d_model)\n",
        "        # self.WQ = nn.Linear(d_model, d_model, bias=False)\n",
        "        # self.WK = nn.Linear(d_model, d_model, bias=False)\n",
        "        # self.WV = nn.Linear(d_model, d_model, bias=False)\n",
        "        self.W1 = nn.Linear(d_model, d_model, bias=False)\n",
        "        # self.W2 = nn.Linear(d_model, d_model, bias=False)\n",
        "        self.WL = nn.Linear(d_model, n_vocab, bias=False)\n",
        "\n",
        "    def forward(self, x):\n",
        "        batch_size, seq_len = x.shape\n",
        "        E = self.WE(x) # E: (b, t, d_model)\n",
        "\n",
        "        # Q = self.WQ(E)\n",
        "        # K = self.WK(E)\n",
        "        # att_scores = torch.matmul(Q, K.transpose(-2, -1)) / math.sqrt(E.size(-1))\n",
        "        att_scores = torch.ones((seq_len, seq_len)) # No Q, K\n",
        "\n",
        "        att_weight = F.softmax(att_scores, dim=-1)\n",
        "\n",
        "        # V = self.WV(E)\n",
        "        V = E # Ablate WV\n",
        "\n",
        "        att = torch.matmul(att_weight, V)\n",
        "\n",
        "        # FNN = self.W2(F.relu(self.W1(att)))\n",
        "        FNN = F.relu(self.W1(att)) # Ablate W2\n",
        "        # FNN = self.W1(att) # Ablate W2+ReLU (X)\n",
        "        # FNN = att # Ablate FFN (X)\n",
        "\n",
        "        L = self.WL(FNN)\n",
        "\n",
        "        return L[:,-1,:] # only next token"
      ],
      "metadata": {
        "id": "8PypEI0O5KuZ"
      },
      "execution_count": 1,
      "outputs": []
    },
    {
      "cell_type": "code",
      "source": [
        "inputs = []\n",
        "labels = []\n",
        "\n",
        "for i in range(10):\n",
        "    for j in range(10):\n",
        "        inputs.append([i, j])\n",
        "        labels.append((i + j) % 10)\n",
        "\n",
        "inputs = torch.LongTensor(inputs)\n",
        "labels = torch.LongTensor(labels)\n",
        "\n",
        "dataset = TensorDataset(inputs, labels)\n",
        "dataloader = DataLoader(dataset, batch_size=1, shuffle=True)\n",
        "\n",
        "model = TF()\n",
        "\n",
        "print(sum(p.numel() for p in model.parameters()), 'parameters')\n",
        "\n",
        "\n",
        "loss_fn = nn.CrossEntropyLoss()\n",
        "optimizer = optim.Adam(model.parameters(), lr=0.0005)\n",
        "\n",
        "epochs = 100000\n",
        "for epoch in range(epochs):\n",
        "    model.train()\n",
        "    total_loss = 0\n",
        "    total_cnt = cnt = 0\n",
        "    for batch, (x, y) in enumerate(dataloader):\n",
        "\n",
        "        optimizer.zero_grad()\n",
        "\n",
        "        pred = model(x)\n",
        "        total_cnt += 1\n",
        "        if torch.argmax(pred, dim=1) == y:\n",
        "          cnt += 1\n",
        "        loss = loss_fn(pred, y)\n",
        "\n",
        "        loss.backward()\n",
        "\n",
        "        optimizer.step()\n",
        "        with torch.no_grad():\n",
        "          for param in model.parameters():\n",
        "            param.clamp_(min=-1, max=1)\n",
        "\n",
        "        total_loss += loss.item()\n",
        "    if (epoch+1) % 100 == 0:\n",
        "        print(f\"Epoch {epoch+1}\\t Loss: {total_loss/len(dataloader):4f}\\t Acc: {cnt/total_cnt}\")"
      ],
      "metadata": {
        "colab": {
          "base_uri": "https://localhost:8080/"
        },
        "id": "mTD4QGunLkUO",
        "outputId": "6c2868f5-bd26-430e-ba1b-6a6280974bde"
      },
      "execution_count": null,
      "outputs": [
        {
          "output_type": "stream",
          "name": "stdout",
          "text": [
            "300 parameters\n"
          ]
        }
      ]
    },
    {
      "cell_type": "code",
      "source": [
        "model.eval()\n",
        "with torch.no_grad():\n",
        "    pred = model(inputs)\n",
        "    labels = torch.argmax(pred, dim=1)\n",
        "\n",
        "err = 0\n",
        "for i in range(100):\n",
        "  if inputs[i].data.sum().item() % 10 != labels[i].item():\n",
        "    err += 1\n",
        "    print(inputs[i], labels[i])\n",
        "print('Error: ', err)"
      ],
      "metadata": {
        "id": "8pVlSVccH6ee"
      },
      "execution_count": null,
      "outputs": []
    },
    {
      "cell_type": "code",
      "source": [
        "import matplotlib.pyplot as plt\n",
        "import seaborn as sns\n",
        "def hm(data):\n",
        "  sns.heatmap(data, annot=True, cmap='viridis', square=True, center=0, fmt='.1f')\n",
        "  plt.show()"
      ],
      "metadata": {
        "id": "LsxSw3QREJhy"
      },
      "execution_count": null,
      "outputs": []
    },
    {
      "cell_type": "code",
      "source": [
        "from sklearn.decomposition import PCA\n",
        "\n",
        "pca = PCA(n_components=2)\n",
        "pca_data = pca.fit_transform(model.WE.weight.data.numpy())\n",
        "\n",
        "for i, d in enumerate(pca_data):\n",
        "  plt.scatter(d[0], d[1], alpha=0.5)\n",
        "  plt.text(d[0], d[1], i)\n"
      ],
      "metadata": {
        "id": "ZWobNmkQW0iY"
      },
      "execution_count": null,
      "outputs": []
    },
    {
      "cell_type": "code",
      "source": [
        "hm(model.WE.weight.data)"
      ],
      "metadata": {
        "id": "jMwTcsrXCkX8"
      },
      "execution_count": null,
      "outputs": []
    },
    {
      "cell_type": "code",
      "source": [
        "hm(model.W1.weight.data)"
      ],
      "metadata": {
        "id": "3surYTVrB7B3"
      },
      "execution_count": null,
      "outputs": []
    },
    {
      "cell_type": "code",
      "source": [
        "hm(model.WL.weight.data)"
      ],
      "metadata": {
        "id": "ZrBA7YytC5Ft"
      },
      "execution_count": null,
      "outputs": []
    },
    {
      "cell_type": "code",
      "source": [],
      "metadata": {
        "id": "0MDlmUkpB6f4"
      },
      "execution_count": null,
      "outputs": []
    },
    {
      "cell_type": "code",
      "source": [],
      "metadata": {
        "id": "dEqvV--K5BT2"
      },
      "execution_count": null,
      "outputs": []
    },
    {
      "cell_type": "code",
      "source": [],
      "metadata": {
        "id": "dOi18XT64vnZ"
      },
      "execution_count": null,
      "outputs": []
    },
    {
      "cell_type": "code",
      "source": [],
      "metadata": {
        "id": "euOT9rhT4vfe"
      },
      "execution_count": null,
      "outputs": []
    },
    {
      "cell_type": "code",
      "source": [],
      "metadata": {
        "id": "A2uU6Akv4vQ1"
      },
      "execution_count": null,
      "outputs": []
    },
    {
      "cell_type": "code",
      "source": [],
      "metadata": {
        "id": "--XT9r154urM"
      },
      "execution_count": null,
      "outputs": []
    },
    {
      "cell_type": "code",
      "source": [],
      "metadata": {
        "id": "Rcz2VaZo4sWe"
      },
      "execution_count": null,
      "outputs": []
    },
    {
      "cell_type": "code",
      "execution_count": null,
      "metadata": {
        "id": "nSSshE-r1Ri8"
      },
      "outputs": [],
      "source": [
        "import numpy as np"
      ]
    },
    {
      "cell_type": "code",
      "execution_count": null,
      "metadata": {
        "id": "ZIjWzeaM1Ri9"
      },
      "outputs": [],
      "source": [
        "input = '1'+'2'"
      ]
    },
    {
      "cell_type": "code",
      "execution_count": null,
      "metadata": {
        "id": "v-HH0okz1Ri9"
      },
      "outputs": [],
      "source": [
        "T = len(input)"
      ]
    },
    {
      "cell_type": "code",
      "execution_count": null,
      "metadata": {
        "id": "K3Zt-i281Ri9"
      },
      "outputs": [],
      "source": [
        "vocabs = ['0', '1', '2', '3', '4', '5', '6', '7', '8', '9']\n",
        "\n",
        "stoi = {s: i for i, s in enumerate(vocabs)}\n",
        "itos = {i: s for i, s in enumerate(vocabs)}\n",
        "\n",
        "stoi"
      ]
    },
    {
      "cell_type": "code",
      "execution_count": null,
      "metadata": {
        "id": "zaZE5s8M1Ri9"
      },
      "outputs": [],
      "source": [
        "[stoi[s] for s in input]"
      ]
    },
    {
      "cell_type": "code",
      "execution_count": null,
      "metadata": {
        "id": "3wLTeqJ61Ri9"
      },
      "outputs": [],
      "source": [
        "import numpy as np\n",
        "\n",
        "W_emb = np.array([\n",
        "    [0, ],  # 0\n",
        "    [1, ],  # 1\n",
        "    [2, ],  # 2\n",
        "    [3, ],  # 3\n",
        "    [4, ],  # 4\n",
        "    [5, ],  # 5\n",
        "    [6, ],  # 6\n",
        "    [7, ],  # 7\n",
        "    [8, ],  # 8\n",
        "    [9, ],  # 9\n",
        "], dtype=float)\n",
        "\n",
        "\n",
        "assert W_emb.shape[0] == len(vocabs)\n",
        "emb_dim = W_emb.shape[1]\n",
        "W_emb.round()"
      ]
    },
    {
      "cell_type": "code",
      "execution_count": null,
      "metadata": {
        "id": "ShaPEEfM1Ri9"
      },
      "outputs": [],
      "source": [
        "x = np.array([W_emb[stoi[token]] for token in input])\n",
        "x"
      ]
    },
    {
      "cell_type": "code",
      "execution_count": null,
      "metadata": {
        "id": "G2UkZj_I1Ri-"
      },
      "outputs": [],
      "source": [
        "head_count = 1\n",
        "d_head = emb_dim\n",
        "d_model = d_head * head_count\n",
        "d_model"
      ]
    },
    {
      "cell_type": "code",
      "execution_count": null,
      "metadata": {
        "id": "4K6ePq5A1Ri-"
      },
      "outputs": [],
      "source": [
        "W_Q = np.zeros((emb_dim, d_model))\n",
        "W_K = np.zeros((emb_dim, d_model))\n",
        "W_V = np.eye(d_model)*2\n",
        "\n",
        "Q = x @ W_Q\n",
        "K = x @ W_K\n",
        "V = x @ W_V\n",
        "\n",
        "assert Q.shape == (T, d_model)\n",
        "assert K.shape == (T, d_model)\n",
        "assert V.shape == (T, d_model)"
      ]
    },
    {
      "cell_type": "code",
      "execution_count": null,
      "metadata": {
        "id": "mjraWihg1Ri-"
      },
      "outputs": [],
      "source": [
        "import torch\n",
        "\n",
        "M = torch.triu(torch.ones(T, T) * float('-inf'), diagonal=1)\n",
        "M = M.masked_fill(torch.isnan(M), 0).numpy()\n",
        "M\n"
      ]
    },
    {
      "cell_type": "code",
      "execution_count": null,
      "metadata": {
        "id": "b6-VM0ib1Ri-"
      },
      "outputs": [],
      "source": [
        "QK = (Q @ K.T) / np.sqrt(d_model)\n",
        "weights = torch.softmax(torch.from_numpy(QK+M), dim=-1)\n",
        "weights"
      ]
    },
    {
      "cell_type": "code",
      "execution_count": null,
      "metadata": {
        "id": "q50ww0Zn1Ri-"
      },
      "outputs": [],
      "source": [
        "W_V"
      ]
    },
    {
      "cell_type": "code",
      "execution_count": null,
      "metadata": {
        "id": "BpqF5kDC1Ri-"
      },
      "outputs": [],
      "source": [
        "x"
      ]
    },
    {
      "cell_type": "code",
      "execution_count": null,
      "metadata": {
        "id": "7Hz6xOb31Ri-"
      },
      "outputs": [],
      "source": [
        "V"
      ]
    },
    {
      "cell_type": "code",
      "execution_count": null,
      "metadata": {
        "id": "Juc8ifXi1Ri-"
      },
      "outputs": [],
      "source": [
        "Attention = weights @ V\n",
        "Attention # Caveat: LayerNorm is not applied."
      ]
    },
    {
      "cell_type": "code",
      "execution_count": null,
      "metadata": {
        "id": "bETHsh7K1Ri-"
      },
      "outputs": [],
      "source": [
        "# ff_dim = d_model\n",
        "ff_dim = d_model * 4\n",
        "\n",
        "W_1 = np.ones((d_model, ff_dim), dtype=float)\n",
        "b_1 = np.zeros((ff_dim,), dtype=float)\n",
        "print('W_1\\n', W_1)\n",
        "print('b_1\\n', b_1)\n",
        "assert W_1.shape == (d_model, ff_dim)\n",
        "assert b_1.shape == (ff_dim,)\n",
        "\n",
        "W_2 = np.ones((ff_dim, d_model), dtype=float) / ff_dim\n",
        "b_2 = np.zeros((d_model,), dtype=float)\n",
        "print('W_2\\n', W_2)\n",
        "print('b_2\\n', b_2)\n",
        "assert W_2.shape == (ff_dim, d_model)\n",
        "assert b_2.shape == (d_model,)\n",
        "\n",
        "FFN_X = torch.relu(torch.from_numpy(Attention.numpy() @ W_1 + b_1)) @ W_2 + b_2\n",
        "assert FFN_X.shape == Attention.shape == (T, d_model)\n",
        "print('FFN(X)\\n', FFN_X.round())"
      ]
    },
    {
      "cell_type": "code",
      "execution_count": null,
      "metadata": {
        "id": "glXwqrT61Ri_"
      },
      "outputs": [],
      "source": [
        "W_Z = np.ones((d_model, len(vocabs)), dtype=float)  # Last linear layer that converts to logits"
      ]
    },
    {
      "cell_type": "code",
      "execution_count": null,
      "metadata": {
        "id": "ef7hM3oY1Ri_"
      },
      "outputs": [],
      "source": [
        "next_token_logits = (FFN_X @ W_Z)[-1]\n",
        "next_token_logits"
      ]
    },
    {
      "cell_type": "code",
      "execution_count": null,
      "metadata": {
        "id": "fKS_UVzN1Ri_"
      },
      "outputs": [],
      "source": [
        "next_token = itos[torch.argmax(torch.softmax(next_token_logits, dim=-1)).item()]\n",
        "next_token"
      ]
    },
    {
      "cell_type": "code",
      "execution_count": null,
      "metadata": {
        "id": "ML89rtPM1Ri_"
      },
      "outputs": [],
      "source": [
        "# Result\n",
        "print(f'input: {input} => next token: {next_token}')"
      ]
    },
    {
      "cell_type": "code",
      "execution_count": null,
      "metadata": {
        "id": "oKunf2ZT1Ri_"
      },
      "outputs": [],
      "source": []
    }
  ],
  "metadata": {
    "kernelspec": {
      "display_name": "Python 3",
      "language": "python",
      "name": "python3"
    },
    "language_info": {
      "codemirror_mode": {
        "name": "ipython",
        "version": 3
      },
      "file_extension": ".py",
      "mimetype": "text/x-python",
      "name": "python",
      "nbconvert_exporter": "python",
      "pygments_lexer": "ipython3",
      "version": "3.8.10"
    },
    "colab": {
      "provenance": [],
      "include_colab_link": true
    }
  },
  "nbformat": 4,
  "nbformat_minor": 0
}