{
 "cells": [
  {
   "cell_type": "code",
   "execution_count": 1,
   "metadata": {},
   "outputs": [],
   "source": [
    "import numpy as np"
   ]
  },
  {
   "cell_type": "code",
   "execution_count": 2,
   "metadata": {},
   "outputs": [],
   "source": [
    "input = '1'+'2'"
   ]
  },
  {
   "cell_type": "code",
   "execution_count": 3,
   "metadata": {},
   "outputs": [],
   "source": [
    "T = len(input)"
   ]
  },
  {
   "cell_type": "code",
   "execution_count": 4,
   "metadata": {},
   "outputs": [
    {
     "data": {
      "text/plain": [
       "{'0': 0,\n",
       " '1': 1,\n",
       " '2': 2,\n",
       " '3': 3,\n",
       " '4': 4,\n",
       " '5': 5,\n",
       " '6': 6,\n",
       " '7': 7,\n",
       " '8': 8,\n",
       " '9': 9}"
      ]
     },
     "execution_count": 4,
     "metadata": {},
     "output_type": "execute_result"
    }
   ],
   "source": [
    "vocabs = ['0', '1', '2', '3', '4', '5', '6', '7', '8', '9']\n",
    "\n",
    "stoi = {s: i for i, s in enumerate(vocabs)}\n",
    "itos = {i: s for i, s in enumerate(vocabs)}\n",
    "\n",
    "stoi"
   ]
  },
  {
   "cell_type": "code",
   "execution_count": 5,
   "metadata": {},
   "outputs": [
    {
     "data": {
      "text/plain": [
       "[1, 2]"
      ]
     },
     "execution_count": 5,
     "metadata": {},
     "output_type": "execute_result"
    }
   ],
   "source": [
    "[stoi[s] for s in input]"
   ]
  },
  {
   "cell_type": "code",
   "execution_count": 6,
   "metadata": {},
   "outputs": [
    {
     "data": {
      "text/plain": [
       "array([[0.],\n",
       "       [1.],\n",
       "       [2.],\n",
       "       [3.],\n",
       "       [4.],\n",
       "       [5.],\n",
       "       [6.],\n",
       "       [7.],\n",
       "       [8.],\n",
       "       [9.]])"
      ]
     },
     "execution_count": 6,
     "metadata": {},
     "output_type": "execute_result"
    }
   ],
   "source": [
    "import numpy as np\n",
    "\n",
    "W_emb = np.array([\n",
    "    [0, ],  # 0\n",
    "    [1, ],  # 1\n",
    "    [2, ],  # 2\n",
    "    [3, ],  # 3\n",
    "    [4, ],  # 4\n",
    "    [5, ],  # 5\n",
    "    [6, ],  # 6\n",
    "    [7, ],  # 7\n",
    "    [8, ],  # 8\n",
    "    [9, ],  # 9\n",
    "], dtype=float)\n",
    "\n",
    "\n",
    "assert W_emb.shape[0] == len(vocabs)\n",
    "emb_dim = W_emb.shape[1]\n",
    "W_emb.round()"
   ]
  },
  {
   "cell_type": "code",
   "execution_count": 7,
   "metadata": {},
   "outputs": [
    {
     "data": {
      "text/plain": [
       "array([[1.],\n",
       "       [2.]])"
      ]
     },
     "execution_count": 7,
     "metadata": {},
     "output_type": "execute_result"
    }
   ],
   "source": [
    "x = np.array([W_emb[stoi[token]] for token in input])\n",
    "x"
   ]
  },
  {
   "cell_type": "code",
   "execution_count": 8,
   "metadata": {},
   "outputs": [
    {
     "data": {
      "text/plain": [
       "1"
      ]
     },
     "execution_count": 8,
     "metadata": {},
     "output_type": "execute_result"
    }
   ],
   "source": [
    "head_count = 1\n",
    "d_head = emb_dim\n",
    "d_model = d_head * head_count\n",
    "d_model"
   ]
  },
  {
   "cell_type": "code",
   "execution_count": 9,
   "metadata": {},
   "outputs": [],
   "source": [
    "W_Q = np.zeros((emb_dim, d_model))\n",
    "W_K = np.zeros((emb_dim, d_model))\n",
    "W_V = np.eye(d_model)*2\n",
    "\n",
    "Q = x @ W_Q\n",
    "K = x @ W_K\n",
    "V = x @ W_V\n",
    "\n",
    "assert Q.shape == (T, d_model)\n",
    "assert K.shape == (T, d_model)\n",
    "assert V.shape == (T, d_model)"
   ]
  },
  {
   "cell_type": "code",
   "execution_count": 10,
   "metadata": {},
   "outputs": [
    {
     "data": {
      "text/plain": [
       "array([[  0., -inf],\n",
       "       [  0.,   0.]], dtype=float32)"
      ]
     },
     "execution_count": 10,
     "metadata": {},
     "output_type": "execute_result"
    }
   ],
   "source": [
    "import torch\n",
    "\n",
    "M = torch.triu(torch.ones(T, T) * float('-inf'), diagonal=1)\n",
    "M = M.masked_fill(torch.isnan(M), 0).numpy()\n",
    "M\n"
   ]
  },
  {
   "cell_type": "code",
   "execution_count": 11,
   "metadata": {},
   "outputs": [
    {
     "data": {
      "text/plain": [
       "tensor([[1.0000, 0.0000],\n",
       "        [0.5000, 0.5000]], dtype=torch.float64)"
      ]
     },
     "execution_count": 11,
     "metadata": {},
     "output_type": "execute_result"
    }
   ],
   "source": [
    "QK = (Q @ K.T) / np.sqrt(d_model)\n",
    "weights = torch.softmax(torch.from_numpy(QK+M), dim=-1)\n",
    "weights"
   ]
  },
  {
   "cell_type": "code",
   "execution_count": 12,
   "metadata": {},
   "outputs": [
    {
     "data": {
      "text/plain": [
       "array([[2.]])"
      ]
     },
     "execution_count": 12,
     "metadata": {},
     "output_type": "execute_result"
    }
   ],
   "source": [
    "W_V"
   ]
  },
  {
   "cell_type": "code",
   "execution_count": 13,
   "metadata": {},
   "outputs": [
    {
     "data": {
      "text/plain": [
       "array([[1.],\n",
       "       [2.]])"
      ]
     },
     "execution_count": 13,
     "metadata": {},
     "output_type": "execute_result"
    }
   ],
   "source": [
    "x"
   ]
  },
  {
   "cell_type": "code",
   "execution_count": 14,
   "metadata": {},
   "outputs": [
    {
     "data": {
      "text/plain": [
       "array([[2.],\n",
       "       [4.]])"
      ]
     },
     "execution_count": 14,
     "metadata": {},
     "output_type": "execute_result"
    }
   ],
   "source": [
    "V"
   ]
  },
  {
   "cell_type": "code",
   "execution_count": 15,
   "metadata": {},
   "outputs": [
    {
     "data": {
      "text/plain": [
       "tensor([[2.],\n",
       "        [3.]], dtype=torch.float64)"
      ]
     },
     "execution_count": 15,
     "metadata": {},
     "output_type": "execute_result"
    }
   ],
   "source": [
    "Attention = weights @ V\n",
    "Attention # Caveat: LayerNorm is not applied."
   ]
  },
  {
   "cell_type": "code",
   "execution_count": 16,
   "metadata": {},
   "outputs": [
    {
     "name": "stdout",
     "output_type": "stream",
     "text": [
      "W_1\n",
      " [[1. 1. 1. 1.]]\n",
      "b_1\n",
      " [0. 0. 0. 0.]\n",
      "W_2\n",
      " [[0.25]\n",
      " [0.25]\n",
      " [0.25]\n",
      " [0.25]]\n",
      "b_2\n",
      " [0.]\n",
      "FFN(X)\n",
      " tensor([[2.],\n",
      "        [3.]], dtype=torch.float64)\n"
     ]
    }
   ],
   "source": [
    "# ff_dim = d_model\n",
    "ff_dim = d_model * 4\n",
    "\n",
    "W_1 = np.ones((d_model, ff_dim), dtype=float)\n",
    "b_1 = np.zeros((ff_dim,), dtype=float)\n",
    "print('W_1\\n', W_1)\n",
    "print('b_1\\n', b_1)\n",
    "assert W_1.shape == (d_model, ff_dim)\n",
    "assert b_1.shape == (ff_dim,)\n",
    "\n",
    "W_2 = np.ones((ff_dim, d_model), dtype=float) / ff_dim\n",
    "b_2 = np.zeros((d_model,), dtype=float)\n",
    "print('W_2\\n', W_2)\n",
    "print('b_2\\n', b_2)\n",
    "assert W_2.shape == (ff_dim, d_model)\n",
    "assert b_2.shape == (d_model,)\n",
    "\n",
    "FFN_X = torch.relu(torch.from_numpy(Attention.numpy() @ W_1 + b_1)) @ W_2 + b_2\n",
    "assert FFN_X.shape == Attention.shape == (T, d_model)\n",
    "print('FFN(X)\\n', FFN_X.round())"
   ]
  },
  {
   "cell_type": "code",
   "execution_count": 17,
   "metadata": {},
   "outputs": [],
   "source": [
    "W_Z = np.ones((d_model, len(vocabs)), dtype=float)  # Last linear layer that converts to logits"
   ]
  },
  {
   "cell_type": "code",
   "execution_count": 18,
   "metadata": {},
   "outputs": [
    {
     "data": {
      "text/plain": [
       "tensor([3., 3., 3., 3., 3., 3., 3., 3., 3., 3.], dtype=torch.float64)"
      ]
     },
     "execution_count": 18,
     "metadata": {},
     "output_type": "execute_result"
    }
   ],
   "source": [
    "next_token_logits = (FFN_X @ W_Z)[-1]\n",
    "next_token_logits"
   ]
  },
  {
   "cell_type": "code",
   "execution_count": 19,
   "metadata": {},
   "outputs": [
    {
     "data": {
      "text/plain": [
       "'0'"
      ]
     },
     "execution_count": 19,
     "metadata": {},
     "output_type": "execute_result"
    }
   ],
   "source": [
    "next_token = itos[torch.argmax(torch.softmax(next_token_logits, dim=-1)).item()]\n",
    "next_token"
   ]
  },
  {
   "cell_type": "code",
   "execution_count": 20,
   "metadata": {},
   "outputs": [
    {
     "name": "stdout",
     "output_type": "stream",
     "text": [
      "input: 12 => next token: 0\n"
     ]
    }
   ],
   "source": [
    "# Result\n",
    "print(f'input: {input} => next token: {next_token}')"
   ]
  },
  {
   "cell_type": "code",
   "execution_count": null,
   "metadata": {},
   "outputs": [],
   "source": []
  }
 ],
 "metadata": {
  "kernelspec": {
   "display_name": "Python 3",
   "language": "python",
   "name": "python3"
  },
  "language_info": {
   "codemirror_mode": {
    "name": "ipython",
    "version": 3
   },
   "file_extension": ".py",
   "mimetype": "text/x-python",
   "name": "python",
   "nbconvert_exporter": "python",
   "pygments_lexer": "ipython3",
   "version": "3.8.10"
  }
 },
 "nbformat": 4,
 "nbformat_minor": 2
}
